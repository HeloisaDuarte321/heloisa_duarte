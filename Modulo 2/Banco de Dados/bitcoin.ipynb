{
 "cells": [
  {
   "cell_type": "code",
   "execution_count": 14,
   "id": "685be068",
   "metadata": {},
   "outputs": [
    {
     "name": "stdout",
     "output_type": "stream",
     "text": [
      "200\n"
     ]
    },
    {
     "data": {
      "text/plain": [
       "{'bitcoin': {'brl': 623252, 'usd': 114967, 'eur': 98057}}"
      ]
     },
     "execution_count": 14,
     "metadata": {},
     "output_type": "execute_result"
    }
   ],
   "source": [
    "# Consumir uma api pública para retornar o valor do bitcoin \n",
    "# em tempo real, nas moedas, reais, dólar e euro\n",
    "\n",
    "import requests\n",
    "\n",
    "valorCripto = requests.get('https://api.coingecko.com/api/v3/simple/price?ids=bitcoin&vs_currencies=brl,usd,eur')\n",
    "\n",
    "print(valorCripto.status_code)\n",
    "\n",
    "#print(valorCripto.text)\n",
    "\n",
    "\n",
    "conversaoReal = valorCripto.json()\n",
    "valorCripto.json()"
   ]
  },
  {
   "cell_type": "code",
   "execution_count": 16,
   "id": "0795f18f",
   "metadata": {},
   "outputs": [
    {
     "name": "stdout",
     "output_type": "stream",
     "text": [
      "valor de 1 bitcoin em reais: R$ 623,252.00\n"
     ]
    }
   ],
   "source": [
    "bitcoinReais = conversaoReal['bitcoin']['brl']\n",
    "\n",
    "print(f'valor de 1 bitcoin em reais: R$ {bitcoinReais:,.2f}')"
   ]
  }
 ],
 "metadata": {
  "kernelspec": {
   "display_name": ".venv (3.13.2)",
   "language": "python",
   "name": "python3"
  },
  "language_info": {
   "codemirror_mode": {
    "name": "ipython",
    "version": 3
   },
   "file_extension": ".py",
   "mimetype": "text/x-python",
   "name": "python",
   "nbconvert_exporter": "python",
   "pygments_lexer": "ipython3",
   "version": "3.13.2"
  }
 },
 "nbformat": 4,
 "nbformat_minor": 5
}
