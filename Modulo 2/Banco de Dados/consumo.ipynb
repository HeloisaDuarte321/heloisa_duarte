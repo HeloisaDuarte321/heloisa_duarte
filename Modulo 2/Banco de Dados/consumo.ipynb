{
 "cells": [
  {
   "cell_type": "code",
   "execution_count": null,
   "id": "1d7536fd",
   "metadata": {},
   "outputs": [],
   "source": [
    "# para consumir api, podemos usar \n",
    "\n",
    "# Urllib - Nativo do python, porém conmplexo de usar \n",
    "\n",
    "# requets - Biblioteca de terceiros, fácil de usar\n",
    "%pip install requests"
   ]
  },
  {
   "cell_type": "code",
   "execution_count": null,
   "id": "4a5b0e56",
   "metadata": {},
   "outputs": [
    {
     "name": "stdout",
     "output_type": "stream",
     "text": [
      "200\n",
      "[{'userId': 1, 'id': 3, 'title': 'ea molestias quasi exercitationem repellat qui ipsa sit aut', 'body': 'et iusto sed quo iure\\nvoluptatem occaecati omnis eligendi aut ad\\nvoluptatem doloribus vel accusantium quis pariatur\\nmolestiae porro eius odio et labore et velit aut'}]\n"
     ]
    }
   ],
   "source": [
    "import requests\n",
    "\n",
    "# TESTE DE API, MÉTODO GET - CONSUMIR API\n",
    "\n",
    "conexao = requests.get('https://jsonplaceholder.typicode.com/posts', params={'id':3})\n",
    "\n",
    "print(conexao.status_code)\n",
    "\n",
    "#print(conexao.text)\n",
    "\n",
    "print(conexao.json())\n",
    "\n"
   ]
  },
  {
   "cell_type": "code",
   "execution_count": 18,
   "id": "7c3c7a7e",
   "metadata": {},
   "outputs": [
    {
     "name": "stdout",
     "output_type": "stream",
     "text": [
      "201\n",
      "{\n",
      "  \"id\": 101,\n",
      "  \"nome\": \"Heloisa \",\n",
      "  \"curso\": \"desenvolvimento intermediário de python\"\n",
      "}\n"
     ]
    }
   ],
   "source": [
    "# TESTE DE API , MÉTODO POST - ENVIAR DADOS\n",
    "\n",
    "dados = {\n",
    "\n",
    "      'id': 's',\n",
    "      'nome' : 'Heloisa ',\n",
    "      'curso': 'desenvolvimento intermediário de python'\n",
    "\n",
    "}\n",
    "\n",
    "enviarDados = requests.post('https://jsonplaceholder.typicode.com/posts', json=dados)\n",
    "\n",
    "print(enviarDados.status_code)\n",
    "\n",
    "print(enviarDados.text)\n",
    "\n",
    "\n",
    "\n",
    "\n"
   ]
  }
 ],
 "metadata": {
  "kernelspec": {
   "display_name": ".venv (3.13.2)",
   "language": "python",
   "name": "python3"
  },
  "language_info": {
   "codemirror_mode": {
    "name": "ipython",
    "version": 3
   },
   "file_extension": ".py",
   "mimetype": "text/x-python",
   "name": "python",
   "nbconvert_exporter": "python",
   "pygments_lexer": "ipython3",
   "version": "3.13.2"
  }
 },
 "nbformat": 4,
 "nbformat_minor": 5
}
