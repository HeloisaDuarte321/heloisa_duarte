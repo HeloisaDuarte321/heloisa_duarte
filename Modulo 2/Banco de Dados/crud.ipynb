{
 "cells": [
  {
   "cell_type": "code",
   "execution_count": 28,
   "id": "f227eb74",
   "metadata": {},
   "outputs": [
    {
     "name": "stdout",
     "output_type": "stream",
     "text": [
      "conexão criada com sucesso\n"
     ]
    }
   ],
   "source": [
    "# PASSO 1\n",
    "#     -  IMPORTAR O SQLITE3\n",
    "#     -  NÃO PRECISA INSTALAR\n",
    "\n",
    "import sqlite3\n",
    "\n",
    "# PASSO 2\n",
    "#       - CRIAR CONEXÃO COM O BANCO DE DADOS \n",
    "#       - NA PRIMEIRA EXECUÇÃO SERÁ CRIADO O BANCO\n",
    "conexão = sqlite3.connect('agencia3.db')\n",
    "\n",
    "# PASSO 3 \n",
    "#      - CRIAR UM CURSOR \n",
    "#      - SERVE PARA EXECUTAR SCRIPS SQL\n",
    "cursor = conexão.cursor()\n",
    "\n",
    "print('conexão criada com sucesso')"
   ]
  },
  {
   "cell_type": "markdown",
   "id": "e55bf98b",
   "metadata": {},
   "source": [
    "CRIAR TABELA DO BANCO DE DADOS "
   ]
  },
  {
   "cell_type": "code",
   "execution_count": 29,
   "id": "09724fc8",
   "metadata": {},
   "outputs": [
    {
     "data": {
      "text/plain": [
       "<sqlite3.Cursor at 0x1db910f0c40>"
      ]
     },
     "execution_count": 29,
     "metadata": {},
     "output_type": "execute_result"
    }
   ],
   "source": [
    "cursor.execute('''\n",
    "               \n",
    "    CREATE TABLE IF NOT EXISTS estoque(\n",
    "        id  INTEGER PRIMARY KEY  AUTOINCREMENT,\n",
    "        marca TEXT NOT NULL,\n",
    "        modelo TEXT NOT NULL,\n",
    "        tamanho INTEGER NOT NULL,\n",
    "        valor DECIMAL NOT NULL    \n",
    "               \n",
    "    );\n",
    "               \n",
    "               \n",
    "               \n",
    "               ''')"
   ]
  },
  {
   "cell_type": "markdown",
   "id": "6b6c0f3b",
   "metadata": {},
   "source": [
    "C-CREATE"
   ]
  },
  {
   "cell_type": "code",
   "execution_count": 30,
   "id": "9a270931",
   "metadata": {},
   "outputs": [],
   "source": [
    "cursor.execute(\"INSERT INTO estoque('marca','modelo', 'tamanho','valor')VALUES(?,?,?,?)\",('Tesla','Coil Black Reflect',35,450))\n",
    "cursor.execute(\"INSERT INTO estoque('marca','modelo', 'tamanho','valor')VALUES(?,?,?,?)\",('Tesla','Tesla hertz',35,358))\n",
    "cursor.execute(\"INSERT INTO estoque('marca','modelo', 'tamanho','valor')VALUES(?,?,?,?)\",('Tesla','Tesla hertz ice',42,263))\n",
    "cursor.execute(\"INSERT INTO estoque('marca','modelo', 'tamanho','valor')VALUES(?,?,?,?)\",('Tesla','Tesla Hertz Black Art Graffit Bordado',42,369))\n",
    "cursor.execute(\"INSERT INTO estoque('marca','modelo', 'tamanho','valor')VALUES(?,?,?,?)\",('Tesla','Tesla Hertz Unissex Camurça Furta Cor',42,334))\n",
    "cursor.execute(\"INSERT INTO estoque('marca','modelo', 'tamanho','valor')VALUES(?,?,?,?)\",('Tesla','Tesla Hertz Art Sapao Grey Original',35,341))\n",
    "cursor.execute(\"INSERT INTO estoque('marca','modelo', 'tamanho','valor')VALUES(?,?,?,?)\",('Tesla','Tesla Hertz Sand Bege Areia Avelã Robusto Original',42,336))\n",
    "\n",
    "\n",
    "\n",
    "\n",
    "\n",
    "conexão.commit()"
   ]
  },
  {
   "cell_type": "markdown",
   "id": "003aac65",
   "metadata": {},
   "source": [
    "R-READ\n"
   ]
  },
  {
   "cell_type": "code",
   "execution_count": 48,
   "id": "c39feba8",
   "metadata": {},
   "outputs": [
    {
     "name": "stdout",
     "output_type": "stream",
     "text": [
      "marca: Tesla  - modelo: Coil Black Reflect - tamanho: 35 - valor: 450\n",
      "marca: Tesla  - modelo: Tesla hertz - tamanho: 35 - valor: 358\n",
      "marca: Tesla  - modelo: Tesla hertz ice - tamanho: 42 - valor: 263\n",
      "marca: Tesla  - modelo: Tesla Hertz Black Art Graffit Bordado - tamanho: 42 - valor: 369\n",
      "marca: Tesla  - modelo: Tesla Hertz Unissex Camurça Furta Cor - tamanho: 42 - valor: 334\n",
      "marca: Tesla  - modelo: Tesla Hertz Art Sapao Grey Original - tamanho: 35 - valor: 341\n",
      "marca: Tesla  - modelo: Tesla Hertz Sand Bege Areia Avelã Robusto Original - tamanho: 42 - valor: 336\n",
      "\n",
      "______________________________________________________\n",
      "marca e modelo\n",
      "\n",
      " Tesla - Coil Black Reflect\n",
      "marca e modelo\n",
      "\n",
      " Tesla - Tesla hertz\n",
      "marca e modelo\n",
      "\n",
      " Tesla - Tesla hertz ice\n",
      "marca e modelo\n",
      "\n",
      " Tesla - Tesla Hertz Black Art Graffit Bordado\n",
      "marca e modelo\n",
      "\n",
      " Tesla - Tesla Hertz Unissex Camurça Furta Cor\n",
      "marca e modelo\n",
      "\n",
      " Tesla - Tesla Hertz Art Sapao Grey Original\n",
      "marca e modelo\n",
      "\n",
      " Tesla - Tesla Hertz Sand Bege Areia Avelã Robusto Original\n",
      "\n",
      "______________________________________________________\n",
      "modelos com menos de 5 anos de uso\n",
      "\n",
      "\n",
      "Tesla Hertz Sand Bege Areia Avelã Robusto Original - 336\n",
      "\n",
      "Tesla Hertz Sand Bege Areia Avelã Robusto Original - 336\n",
      "\n",
      "Tesla Hertz Sand Bege Areia Avelã Robusto Original - 336\n",
      "\n",
      "Tesla Hertz Sand Bege Areia Avelã Robusto Original - 336\n",
      "\n",
      "Tesla Hertz Sand Bege Areia Avelã Robusto Original - 336\n",
      "\n",
      "Tesla Hertz Sand Bege Areia Avelã Robusto Original - 336\n",
      "\n",
      "Tesla Hertz Sand Bege Areia Avelã Robusto Original - 336\n"
     ]
    }
   ],
   "source": [
    "conexão = sqlite3.connect('agencia3.db')\n",
    "cursor = conexão.cursor()\n",
    "\n",
    "\n",
    "consulta = cursor.execute(\"SELECT * FROM estoque\")\n",
    "for lista in consulta.fetchall():\n",
    "    print(f'marca: {lista[1]}  - modelo: {lista[2]} - tamanho: {lista[3]} - valor: {lista[4]}')\n",
    "\n",
    "print('\\n______________________________________________________')\n",
    "\n",
    "consulta2 = cursor.execute(\"SELECT marca, modelo FROM estoque\")\n",
    "for lista2 in consulta2.fetchall():\n",
    "    print(f'marca e modelo\\n\\n {lista2[0]} - {lista2[1]}')\n",
    "\n",
    "print('\\n______________________________________________________')\n",
    "\n",
    "\n",
    "consulta3 = cursor.execute(\"SELECT modelo, tamanho < 40 FROM estoque\")\n",
    "print('modelos com menos de 5 anos de uso\\n')\n",
    "for lista3 in consulta3.fetchall():\n",
    "    print(f'\\n{lista[2]} - {lista[4]}')\n",
    "\n"
   ]
  },
  {
   "cell_type": "markdown",
   "id": "7e50d407",
   "metadata": {},
   "source": [
    "U-UPDATE"
   ]
  },
  {
   "cell_type": "code",
   "execution_count": 54,
   "id": "5c9b8ca1",
   "metadata": {},
   "outputs": [],
   "source": [
    "conexão.execute(\"UPDATE estoque SET valor = ? WHERE id = ?\",(400,1))\n",
    "\n",
    "conexão.commit()"
   ]
  },
  {
   "cell_type": "markdown",
   "id": "9c19d4f7",
   "metadata": {},
   "source": [
    "D-DELETE"
   ]
  },
  {
   "cell_type": "code",
   "execution_count": 58,
   "id": "9d2d4a78",
   "metadata": {},
   "outputs": [],
   "source": [
    "conexão.execute('DELETE from estoque WHERE modelo = ?', ('Coil Black Reflect',))\n",
    "                \n",
    "                \n",
    "conexão.commit()\n",
    "conexão.close()"
   ]
  }
 ],
 "metadata": {
  "kernelspec": {
   "display_name": ".venv (3.13.2)",
   "language": "python",
   "name": "python3"
  },
  "language_info": {
   "codemirror_mode": {
    "name": "ipython",
    "version": 3
   },
   "file_extension": ".py",
   "mimetype": "text/x-python",
   "name": "python",
   "nbconvert_exporter": "python",
   "pygments_lexer": "ipython3",
   "version": "3.13.2"
  }
 },
 "nbformat": 4,
 "nbformat_minor": 5
}
